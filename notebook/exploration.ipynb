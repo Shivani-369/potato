# Potato Defect Dataset Exploration

import os
import matplotlib.pyplot as plt
import matplotlib.image as mpimg
from collections import Counter

# Paths
DATA_DIR = "../data/tubers"

# Count images in each class
classes = os.listdir(DATA_DIR)
counts = {cls: len(os.listdir(os.path.join(DATA_DIR, cls))) for cls in classes}
print("Image counts per class:", counts)

# Plot class distribution
plt.bar(counts.keys(), counts.values())
plt.title("Class Distribution in Tubers Dataset")
plt.xlabel("Class")
plt.ylabel("Number of Images")
plt.show()

# Show sample images
fig, axes = plt.subplots(1, len(classes), figsize=(15, 5))
for ax, cls in zip(axes, classes):
    img_path = os.path.join(DATA_DIR, cls, os.listdir(os.path.join(DATA_DIR, cls))[0])
    img = mpimg.imread(img_path)
    ax.imshow(img)
    ax.set_title(cls)
    ax.axis("off")

plt.show()

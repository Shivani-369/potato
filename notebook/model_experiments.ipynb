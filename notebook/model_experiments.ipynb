# Potato Defect Detection - Model Training Experiments

import torch
from torch.utils.data import DataLoader
from torchvision import datasets, transforms
import torch.nn as nn
import torch.optim as optim

from src.model import SimpleCNN  # your model
from src.train import train_one_epoch
from src.evaluate import evaluate

# Paths
TRAIN_DIR = "../data/train"
VAL_DIR = "../data/val"

# Transforms
transform = transforms.Compose([
    transforms.Resize((128, 128)),
    transforms.ToTensor(),
])

# Datasets
train_dataset = datasets.ImageFolder(TRAIN_DIR, transform=transform)
val_dataset = datasets.ImageFolder(VAL_DIR, transform=transform)

# Loaders
train_loader = DataLoader(train_dataset, batch_size=8, shuffle=True)
val_loader = DataLoader(val_dataset, batch_size=8, shuffle=False)

# Model
device = torch.device("cuda" if torch.cuda.is_available() else "cpu")
model = SimpleCNN(num_classes=len(train_dataset.classes)).to(device)

# Optimizer and Loss
criterion = nn.CrossEntropyLoss()
optimizer = optim.Adam(model.parameters(), lr=1e-3)

# Training Loop
EPOCHS = 3
for epoch in range(EPOCHS):
    print(f"\nEpoch {epoch+1}/{EPOCHS}")
    train_one_epoch(model, train_loader, criterion, optimizer, device)
    evaluate(model, val_loader, criterion, device)

# Save trained model
torch.save(model.state_dict(), "../model_checkpoint.pth")
print("Model saved to model_checkpoint.pth")
